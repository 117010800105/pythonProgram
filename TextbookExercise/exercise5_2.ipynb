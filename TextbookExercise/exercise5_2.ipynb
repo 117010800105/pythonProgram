{
 "cells": [
  {
   "cell_type": "code",
   "execution_count": null,
   "metadata": {},
   "outputs": [],
   "source": [
    "def isOdd(n):\n",
    "    if n%2 == 1:\n",
    "        return True\n",
    "    else:\n",
    "        return False\n",
    "\n",
    "    \n",
    "while True:\n",
    "    n = eval(input(\"Plese enter an Integer:\"))\n",
    "    if n == 0:\n",
    "        print(\"program is over!\")\n",
    "        break\n",
    "    if isOdd(n):\n",
    "        print(\"{} is odd\".format(n))\n",
    "    else:\n",
    "        print(\"{} is even\".format(n))"
   ]
  }
 ],
 "metadata": {
  "kernelspec": {
   "display_name": "Python 3",
   "language": "python",
   "name": "python3"
  },
  "language_info": {
   "codemirror_mode": {
    "name": "ipython",
    "version": 3
   },
   "file_extension": ".py",
   "mimetype": "text/x-python",
   "name": "python",
   "nbconvert_exporter": "python",
   "pygments_lexer": "ipython3",
   "version": "3.6.4"
  }
 },
 "nbformat": 4,
 "nbformat_minor": 2
}

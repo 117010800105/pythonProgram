{
 "cells": [
  {
   "cell_type": "code",
   "execution_count": 3,
   "metadata": {},
   "outputs": [],
   "source": [
    "from NetSpider import *\n",
    "from bs4 import BeautifulSoup\n",
    "import requests\n",
    "import re"
   ]
  },
  {
   "cell_type": "code",
   "execution_count": 105,
   "metadata": {},
   "outputs": [],
   "source": [
    "fo=open('testtxt.txt','rt',encoding='utf-8')\n",
    "text=fo.read()"
   ]
  },
  {
   "cell_type": "code",
   "execution_count": 118,
   "metadata": {
    "scrolled": true
   },
   "outputs": [],
   "source": [
    "soup = BeautifulSoup(text,'html.parserp')\n",
    "title = soup.find('title')"
   ]
  },
  {
   "cell_type": "code",
   "execution_count": 120,
   "metadata": {},
   "outputs": [
    {
     "name": "stdout",
     "output_type": "stream",
     "text": [
      "小学六年级英语阅读理解练习题（十四）_小学六年级阅读理解练习题_小学英语_少儿英语-小e英语学习网\n",
      "小学六年级英语阅读理解练习题（十四）\n"
     ]
    }
   ],
   "source": [
    "print(title.string)\n",
    "s=title.string\n",
    "print(s[0:s.index('_')])"
   ]
  },
  {
   "cell_type": "code",
   "execution_count": 125,
   "metadata": {},
   "outputs": [
    {
     "name": "stdout",
     "output_type": "stream",
     "text": [
      "<div class=\"jxa_content\" id=\"articlebody\">\n",
      "<p>Mr. and Mrs. Brown are from America. They are now teaching English in Zhengzhou. Their son Jack is with them. Jack speaks English. They want him to learn some Chinese. Jack is in Grade Three in a Chinese school. He plays with Chinese children every day. He listens to Chinese, speaks(讲) Chinese, reads books in Chinese and writes in Chinese. He is doing well in his Chinese.<br/>\n",
      "(     )56. Mr. and Mrs. Brown are________.<br/>\n",
      "A. Chinese     B. English      C. America     D. Americans<br/>\n",
      "(     )57. They are working ________ now.<br/>\n",
      "  A. at school      B. in China     C. in America     D. in Grade 3<br/>\n",
      "(     )58. Jack is________.<br/>\n",
      "A. a student in a Chinese school             B. a girl from America<br/>\n",
      "C. in Class One, Grade Three               D. learning English<br/>\n",
      "(     )59. Jack likes to play with________.<br/>\n",
      "A. his father     B. his mother     C. his brothers     D. Chinese children <br/>\n",
      "(     )60. Jack learns the Chinese language (语言) by________.<br/>\n",
      "A. listening to the language          B. listening to the language and speaking it<br/>\n",
      "C. reading books in Chinese and writing in it<br/>\n",
      "D. listening, speaking, reading and writing</p>\n",
      "<p><strong>\n",
      "答案：DAADD\n"
     ]
    }
   ],
   "source": [
    "item = soup.find('div',{'id':'articlebody'})\n",
    "sitem = str(item)\n",
    "\n",
    "k = sitem.index('答案')\n",
    "print(sitem[0:k])\n",
    "print(sitem[k:k+8])"
   ]
  },
  {
   "cell_type": "code",
   "execution_count": 117,
   "metadata": {},
   "outputs": [
    {
     "name": "stdout",
     "output_type": "stream",
     "text": [
      " \n",
      " Mr. and Mrs. Brown are from America. They are now teaching English in Zhengzhou. Their son Jack is with them. Jack speaks English. They want him to learn some Chinese. Jack is in Grade Three in a Chinese school. He plays with Chinese children every day. He listens to Chinese, speaks(讲) Chinese, reads books in Chinese and writes in Chinese. He is doing well in his Chinese.\n",
      "\n",
      "(     )56. Mr. and Mrs. Brown are________.\n",
      "\n",
      "A. Chinese     B. English      C. America     D. Americans\n",
      "\n",
      "(     )57. They are working ________ now.\n",
      "\n",
      "  A. at school      B. in China     C. in America     D. in Grade 3\n",
      "\n",
      "(     )58. Jack is________.\n",
      "\n",
      "A. a student in a Chinese school             B. a girl from America\n",
      "\n",
      "C. in Class One, Grade Three               D. learning English\n",
      "\n",
      "(     )59. Jack likes to play with________.\n",
      "\n",
      "A. his father     B. his mother     C. his brothers     D. Chinese children \n",
      "\n",
      "(     )60. Jack learns the Chinese language (语言) by________.\n",
      "\n",
      "A. listening to the language          B. listening to the language and speaking it\n",
      "\n",
      "C. reading books in Chinese and writing in it\n",
      "\n",
      "D. listening, speaking, reading and writing \n",
      " \n"
     ]
    }
   ],
   "source": [
    "\n",
    "tag = ['<div(.*)>','<p>','</p>','</div>']\n",
    "for t in tag:\n",
    "    re_tag = re.compile(t)\n",
    "    sitem = re_tag.sub(' ',sitem)\n",
    "re_br = re.compile(\"<br/>\")\n",
    "sitem = re_br.sub('\\n',sitem)\n",
    "print(sitem)"
   ]
  },
  {
   "cell_type": "code",
   "execution_count": 104,
   "metadata": {
    "scrolled": false
   },
   "outputs": [
    {
     "name": "stdout",
     "output_type": "stream",
     "text": [
      "\n",
      "\n",
      "  Mrs Hunt comes back from work. She tells Mr Hunt about a nice dress. “I see it in the shop every day”, she says .“And you want to buy it ?” says Mr hunt .”How much is it ?” “Two hundred and sixty yuan .” two hundred and sixty yuan for a dress ?That’s too much !” But every evening when she comes back , Mrs Hunt speaks only about the dress, so at last he says , “Oh ,buy the dress ! here’s the money !” She is every happy . But the next evening, when Mr Hunt wants to have a look at the nice dress, Mr Hunt says ,”I don’t want to buy it .””Why not ?” he asks.“Well, it is still in the window of the shop after a week. So I think no one wants this dress . And I don’t want it ,either.” \n",
      "\n",
      "\n",
      "\n",
      "\n",
      "\n",
      "\n",
      "\n",
      "\n",
      "\n",
      "\n",
      "\n",
      "\n",
      "\n",
      "\n",
      "\n",
      "\n",
      "\n",
      "\n",
      "\n",
      "\n",
      "\n",
      "\n",
      "\n",
      "\n",
      "\n",
      "\n",
      "\n",
      "\n",
      "\n",
      "\n",
      "\n",
      "\n",
      "\n",
      "\n",
      "\n",
      "\n",
      "\n",
      "\n"
     ]
    }
   ],
   "source": [
    "s=item\n",
    "re_div=re.compile('<div(.*)>')\n",
    "s=re_div.sub('\\n',s)\n",
    "re_br=re.compile('<br(.*)>')\n",
    "s=re_br.sub('\\n',s)\n",
    "re_p=re.compile('<p>')\n",
    "s=re_p.sub(' ',s)\n",
    "re_p=re.compile('</p>')\n",
    "s=re_p.sub(' ',s)\n",
    "print(s)"
   ]
  },
  {
   "cell_type": "code",
   "execution_count": 121,
   "metadata": {},
   "outputs": [],
   "source": [
    "fo.close()"
   ]
  }
 ],
 "metadata": {
  "kernelspec": {
   "display_name": "Python 3",
   "language": "python",
   "name": "python3"
  },
  "language_info": {
   "codemirror_mode": {
    "name": "ipython",
    "version": 3
   },
   "file_extension": ".py",
   "mimetype": "text/x-python",
   "name": "python",
   "nbconvert_exporter": "python",
   "pygments_lexer": "ipython3",
   "version": "3.6.4"
  }
 },
 "nbformat": 4,
 "nbformat_minor": 2
}

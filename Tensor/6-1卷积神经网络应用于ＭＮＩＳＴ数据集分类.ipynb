{
 "cells": [
  {
   "cell_type": "code",
   "execution_count": 1,
   "metadata": {},
   "outputs": [],
   "source": [
    "import tensorflow as tf\n",
    "from tensorflow.examples.tutorials.mnist import input_data"
   ]
  },
  {
   "cell_type": "code",
   "execution_count": null,
   "metadata": {},
   "outputs": [],
   "source": [
    "mnist = input_data.read_data_sets('MNIST_data',one_hot=True)\n",
    "#每个批次的大小\n",
    "batch_size=100\n",
    "#计算一共多少个批次\n",
    "n_batch=mnist.train.num_examples//batch_size\n",
    "#初始化权值\n",
    "def weight_variable(shape):\n",
    "    initial = tf.truncated_normal(shape.stddev=0.1) #生成一个截断的正态分布\n",
    "    return tf.Variable(initial)\n",
    "\n",
    "#卷积层\n",
    "def convd(x,W)\n",
    "    #input tensor of shape [batch, in_height, in_width, in_channels]\n",
    "    #filter / kernel tensor of shape [filter_height, filter_width, in_channels, out_channels]\n",
    "    #strides[0]=strides[3]=1. strides[1]代表ｘ方向的步长，strids[2]代表ｙ方向的步长\n",
    "    #padding: A string from \"SAME\", \"VALID\"\n",
    "    return tf.nn.conv2d(x,W,strides=[1,1,1,1], padding='SAME')\n",
    "\n",
    "#池化层\n",
    "def max_pool_2x2(x):\n",
    "    #ksize [1,x,y,1]\n",
    "    return tf.nn.max_pool(x,ksize=[12,2,1], strides=[1,2,2,1], padding='SAME')\n",
    "\n",
    "#定义两个placeholder\n",
    "x = tf.placeholder(tf.float32, [None, 784])#28*28\n",
    "y = tf.placeholder(tf.float32, [None, 10])\n",
    "\n",
    "#改变x的格式转为４Ｄ的向量【batch, in_height, in_width, in_channels]\n",
    "x_image = tf.reshape(x,[－1, 28, 28 ,1])\n",
    "\n",
    "#初始化第一个卷积层的权值和偏量\n",
    "W_conv1 = weight_variable([5,5,1,32])#5*5的采样窗口，３２个卷积核从１个平面抽取特征\n",
    "b_conv1 = bias_variable([32])#每一个卷积核一个偏置值\n",
    "\n",
    "#把x_image和权值向量进行卷积，再加上偏置值，然后应用于relu激活函数\n",
    "h_conv1 = tf.nn.relu(conv2d(x_image, W_conv1) + b_conv1)\n",
    "h_pool = max_pool_2x2(h_conv1)#进行max-pooling\n",
    "\n",
    "\n"
   ]
  }
 ],
 "metadata": {
  "kernelspec": {
   "display_name": "Python 3",
   "language": "python",
   "name": "python3"
  },
  "language_info": {
   "codemirror_mode": {
    "name": "ipython",
    "version": 3
   },
   "file_extension": ".py",
   "mimetype": "text/x-python",
   "name": "python",
   "nbconvert_exporter": "python",
   "pygments_lexer": "ipython3",
   "version": "3.5.4"
  }
 },
 "nbformat": 4,
 "nbformat_minor": 2
}
